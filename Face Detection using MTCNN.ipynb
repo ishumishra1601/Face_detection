{
 "cells": [
  {
   "cell_type": "markdown",
   "metadata": {},
   "source": [
    "## Face Detection using MTCNN library"
   ]
  },
  {
   "cell_type": "markdown",
   "metadata": {},
   "source": [
    "Multi-task Cascaded Convolutional Networks (MTCNN) is a framework developed as a solution for both face detection and face alignment. The process consists of three stages of convolutional networks that are able to recognize faces and landmark location such as eyes, nose, and mouth.\n",
    "\n",
    "The Three Stages of MTCNN:\n",
    "\n",
    "#### Stage 1: The Proposal Network (P-Net)\n",
    "\n",
    "In the first stage it uses a shallow CNN(i.e. dense layer is not a part of the architecture) to quickly produce candidate windows and their bounding box regression vectors.\n",
    "\n",
    "\n",
    "#### Stage 2: The Refine Network (R-Net)\n",
    "\n",
    "All candidates from the P-Net are fed into the Refine Network. In the second stage it refines the proposed candidate windows through a more complex CNN(i.e. dense layer is the part of the CNN architecture). The R-Net outputs wether the input is a face or not, a 4 element vector which is the bounding box for the face, and a 10 element vector for facial landmark localization.\n",
    "\n",
    "#### Stage 3: The Output Network (O-Net)\n",
    "In the third stage it uses a third CNN, more complex than the others, to further refine the result and output facial landmark positions.\n"
   ]
  },
  {
   "cell_type": "code",
   "execution_count": 8,
   "metadata": {},
   "outputs": [
    {
     "name": "stdout",
     "output_type": "stream",
     "text": [
      "Collecting mtcnn"
     ]
    },
    {
     "name": "stderr",
     "output_type": "stream",
     "text": [
      "\n",
      "[notice] A new release of pip available: 22.3.1 -> 23.0\n",
      "[notice] To update, run: python.exe -m pip install --upgrade pip\n"
     ]
    },
    {
     "name": "stdout",
     "output_type": "stream",
     "text": [
      "\n",
      "  Downloading mtcnn-0.1.1-py3-none-any.whl (2.3 MB)\n",
      "     ---------------------------------------- 2.3/2.3 MB 3.9 MB/s eta 0:00:00\n",
      "Requirement already satisfied: keras>=2.0.0 in c:\\users\\ishu mishra\\anaconda3\\lib\\site-packages (from mtcnn) (2.10.0)\n",
      "Requirement already satisfied: opencv-python>=4.1.0 in c:\\users\\ishu mishra\\anaconda3\\lib\\site-packages (from mtcnn) (4.7.0.68)\n",
      "Requirement already satisfied: numpy>=1.17.0 in c:\\users\\ishu mishra\\anaconda3\\lib\\site-packages (from opencv-python>=4.1.0->mtcnn) (1.23.5)\n",
      "Installing collected packages: mtcnn\n",
      "Successfully installed mtcnn-0.1.1\n"
     ]
    }
   ],
   "source": [
    "!pip install mtcnn   #installing mtcnn library"
   ]
  },
  {
   "cell_type": "code",
   "execution_count": 12,
   "metadata": {},
   "outputs": [
    {
     "name": "stdout",
     "output_type": "stream",
     "text": [
      "1/1 [==============================] - 0s 165ms/step\n",
      "1/1 [==============================] - 0s 120ms/step\n",
      "1/1 [==============================] - 0s 28ms/step\n",
      "1/1 [==============================] - 0s 26ms/step\n",
      "1/1 [==============================] - 0s 31ms/step\n",
      "1/1 [==============================] - 0s 36ms/step\n",
      "1/1 [==============================] - 0s 31ms/step\n",
      "1/1 [==============================] - 0s 34ms/step\n",
      "3/3 [==============================] - 0s 7ms/step\n",
      "1/1 [==============================] - 0s 251ms/step\n",
      "[{'box': [28, 1, 48, 61], 'confidence': 0.9999759197235107, 'keypoints': {'left_eye': (42, 24), 'right_eye': (66, 27), 'nose': (52, 40), 'mouth_left': (39, 45), 'mouth_right': (62, 49)}}, {'box': [261, 2, 50, 58], 'confidence': 0.9995166063308716, 'keypoints': {'left_eye': (272, 25), 'right_eye': (295, 21), 'nose': (284, 31), 'mouth_left': (276, 46), 'mouth_right': (299, 43)}}, {'box': [199, 18, 50, 63], 'confidence': 0.9982722997665405, 'keypoints': {'left_eye': (209, 45), 'right_eye': (233, 40), 'nose': (221, 57), 'mouth_left': (215, 66), 'mouth_right': (237, 62)}}, {'box': [108, 14, 53, 70], 'confidence': 0.9952243566513062, 'keypoints': {'left_eye': (119, 45), 'right_eye': (143, 37), 'nose': (133, 52), 'mouth_left': (128, 69), 'mouth_right': (150, 61)}}]\n"
     ]
    },
    {
     "data": {
      "text/plain": [
       "-1"
      ]
     },
     "execution_count": 12,
     "metadata": {},
     "output_type": "execute_result"
    }
   ],
   "source": [
    "from mtcnn import MTCNN #importing mtcnn library\n",
    "import cv2   #importing open cv library\n",
    "\n",
    "detector = MTCNN() #saving the mtcnn algorithm in detector variable\n",
    "\n",
    "img = cv2.imread(r'C:\\Users\\Ishu Mishra\\Downloads\\test1.jpg')  # reading the image\n",
    "\n",
    "output = detector.detect_faces(img)  # detecting the faces in the image\n",
    "#[{},{}...{}]\n",
    "print(output)\n",
    "\n",
    "for i in output:\n",
    "    x,y,width,height = i['box']   # initialising the coordinates that will store the data from output\n",
    "    cv2.rectangle(img,pt1=(x,y),pt2=(x+width,y+height),color=(255,0,0),thickness=2)  #building a rectangle around face with the coordinates we got from the output\n",
    "\n",
    "\n",
    "cv2.imshow('window',img)  #showing the result in the window\n",
    "\n",
    "cv2.waitKey(0)  # to keep the image on the screen"
   ]
  },
  {
   "cell_type": "code",
   "execution_count": null,
   "metadata": {},
   "outputs": [],
   "source": []
  },
  {
   "cell_type": "code",
   "execution_count": null,
   "metadata": {},
   "outputs": [],
   "source": []
  },
  {
   "cell_type": "code",
   "execution_count": null,
   "metadata": {},
   "outputs": [],
   "source": []
  }
 ],
 "metadata": {
  "kernelspec": {
   "display_name": "Python 3",
   "language": "python",
   "name": "python3"
  },
  "language_info": {
   "codemirror_mode": {
    "name": "ipython",
    "version": 3
   },
   "file_extension": ".py",
   "mimetype": "text/x-python",
   "name": "python",
   "nbconvert_exporter": "python",
   "pygments_lexer": "ipython3",
   "version": "3.8.5"
  }
 },
 "nbformat": 4,
 "nbformat_minor": 4
}

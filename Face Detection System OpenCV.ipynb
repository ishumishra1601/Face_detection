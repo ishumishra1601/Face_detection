{
 "cells": [
  {
   "cell_type": "markdown",
   "metadata": {},
   "source": [
    "## Open CV\n",
    "OpenCV (Open Source Computer Vision) is a popular computer vision library. The library sets its focus on real-time image processing and implementations of the latest computer vision algorithms. It is used in image processing, video capture and analysis including features like face detection and object detection. Application of Computer Vision spreads out in every major domain from medicine, robotics to security.\n",
    "\n",
    "### Cascade Classifier\n",
    "\n",
    "Cascade classifiers are trained using several positive (with faces or objects) images and arbitrary negative (without faces or objects) images. Then we extract features from it."
   ]
  },
  {
   "cell_type": "code",
   "execution_count": 1,
   "metadata": {},
   "outputs": [
    {
     "name": "stdout",
     "output_type": "stream",
     "text": [
      "Collecting opencv-python"
     ]
    },
    {
     "name": "stderr",
     "output_type": "stream",
     "text": [
      "\n",
      "[notice] A new release of pip available: 22.3.1 -> 23.0\n",
      "[notice] To update, run: python.exe -m pip install --upgrade pip\n"
     ]
    },
    {
     "name": "stdout",
     "output_type": "stream",
     "text": [
      "\n",
      "  Downloading opencv_python-4.7.0.68-cp37-abi3-win_amd64.whl (38.2 MB)\n",
      "     ---------------------------------------- 38.2/38.2 MB 2.4 MB/s eta 0:00:00\n",
      "Requirement already satisfied: numpy>=1.17.0 in c:\\users\\ishu mishra\\anaconda3\\lib\\site-packages (from opencv-python) (1.23.5)\n",
      "Installing collected packages: opencv-python\n",
      "Successfully installed opencv-python-4.7.0.68\n"
     ]
    }
   ],
   "source": [
    "!pip install opencv-python   # installing open cv library"
   ]
  },
  {
   "cell_type": "code",
   "execution_count": 4,
   "metadata": {},
   "outputs": [],
   "source": [
    "import cv2   # importing open cv library"
   ]
  },
  {
   "cell_type": "markdown",
   "metadata": {},
   "source": [
    "## Detecting face from the video of our webcam"
   ]
  },
  {
   "cell_type": "code",
   "execution_count": 2,
   "metadata": {},
   "outputs": [],
   "source": [
    "face_cap = cv2.CascadeClassifier(r\"C:\\Users\\Ishu Mishra\\anaconda3\\Lib\\site-packages\\cv2\\data\\haarcascade_frontalface_default.xml\")   # haarcascade_frontalface_default is a pretrained classifier for face\n",
    "video_cap=cv2.VideoCapture(0) # opening our webcam to capture video(0 indicated to open the webcam. We can use the path of a video as well from which we want to detect faces.)\n",
    "\n",
    "while True:\n",
    "    ret , video_data = video_cap.read()  # reading the video from webcam\n",
    "    col = cv2.cvtColor(video_data,cv2.COLOR_BGR2GRAY) # converting video data into grayscale because cascade classifier works only on grayscale images\n",
    "    faces = face_cap.detectMultiScale(   # Detects objects of different sizes in the input image.\n",
    "    col,\n",
    "    scaleFactor=1.1,  # Parameter specifying how much the image size is reduced at each image scale.\n",
    "    minNeighbors=5,   # Parameter specifying how many neighbors each candidate rectangle should have to retain it.\n",
    "    minSize=(30,30),  # Minimum possible object size. Objects smaller than that are ignored.\n",
    "    flags=cv2.CASCADE_SCALE_IMAGE\n",
    "    )\n",
    "    for (x,y,w,h) in faces:  # coordinates of faces with x,y point and height and width\n",
    "        cv2.rectangle(video_data,(x,y), (x+w, y+h), (0,255,0), 2)  #drawing a rectangle around faces with the coordinates gives by x,y,h,w\n",
    "    cv2.imshow(\"video_live\", video_data) #displaying the image\n",
    "    if cv2.waitKey(10) == ord(\"a\"): # waits for a pressed key to terminate the window\n",
    "        break\n",
    "\n",
    "video_cap.release()"
   ]
  },
  {
   "cell_type": "markdown",
   "metadata": {},
   "source": [
    "## Detecting face from the image"
   ]
  },
  {
   "cell_type": "code",
   "execution_count": 10,
   "metadata": {},
   "outputs": [
    {
     "data": {
      "text/plain": [
       "-1"
      ]
     },
     "execution_count": 10,
     "metadata": {},
     "output_type": "execute_result"
    }
   ],
   "source": [
    "face_cap = cv2.CascadeClassifier(r\"C:\\Users\\Ishu Mishra\\anaconda3\\Lib\\site-packages\\cv2\\data\\haarcascade_frontalface_default.xml\")\n",
    "\n",
    "img = cv2.imread(r'C:\\Users\\Ishu Mishra\\Downloads\\test1.jpg')  # reading the image\n",
    "\n",
    "gray = cv2.cvtColor(img,cv2.COLOR_BGR2GRAY) # converting image into grayscale because cascade classifier works only on grayscale images\n",
    "\n",
    "faces = face_cap.detectMultiScale(gray, scaleFactor=1.1,  # Detects objects of different sizes in the input image.\n",
    "    minNeighbors=5,\n",
    "    minSize=(30,30),\n",
    "    flags=cv2.CASCADE_SCALE_IMAGE)\n",
    "\n",
    "for (x,y,w,h) in faces:  # coordinates of faces with x,y point and height and width\n",
    "        cv2.rectangle(img,(x,y), (x+w, y+h), (255,0,0), 2)   #drawing a rectangle around faces with the coordinates gives by x,y,h,w\n",
    "\n",
    "cv2.imshow('img', img)  #displaying the image\n",
    "cv2.waitKey(0)  # waits for a pressed key to terminate the window"
   ]
  },
  {
   "cell_type": "code",
   "execution_count": null,
   "metadata": {},
   "outputs": [],
   "source": []
  },
  {
   "cell_type": "code",
   "execution_count": null,
   "metadata": {},
   "outputs": [],
   "source": []
  },
  {
   "cell_type": "code",
   "execution_count": null,
   "metadata": {},
   "outputs": [],
   "source": []
  },
  {
   "cell_type": "code",
   "execution_count": null,
   "metadata": {},
   "outputs": [],
   "source": []
  },
  {
   "cell_type": "code",
   "execution_count": null,
   "metadata": {},
   "outputs": [],
   "source": []
  }
 ],
 "metadata": {
  "kernelspec": {
   "display_name": "Python 3",
   "language": "python",
   "name": "python3"
  },
  "language_info": {
   "codemirror_mode": {
    "name": "ipython",
    "version": 3
   },
   "file_extension": ".py",
   "mimetype": "text/x-python",
   "name": "python",
   "nbconvert_exporter": "python",
   "pygments_lexer": "ipython3",
   "version": "3.8.5"
  }
 },
 "nbformat": 4,
 "nbformat_minor": 4
}
